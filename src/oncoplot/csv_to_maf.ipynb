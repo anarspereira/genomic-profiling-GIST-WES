{
 "cells": [
  {
   "cell_type": "markdown",
   "metadata": {},
   "source": [
    "# Creating a MAF file from a CSV file with the 34 variants with evidence of pathogenicity\n",
    "\n",
    "2023/12/12"
   ]
  },
  {
   "cell_type": "code",
   "execution_count": 1,
   "metadata": {},
   "outputs": [],
   "source": [
    "import pandas as pd"
   ]
  },
  {
   "cell_type": "code",
   "execution_count": 2,
   "metadata": {},
   "outputs": [
    {
     "name": "stdout",
     "output_type": "stream",
     "text": [
      "1.5.3\n"
     ]
    }
   ],
   "source": [
    "print(pd.__version__)"
   ]
  },
  {
   "cell_type": "code",
   "execution_count": 3,
   "metadata": {},
   "outputs": [],
   "source": [
    "csv_file_path = r'C:\\Users\\Ana\\Documents\\GitHub\\dissertation\\data\\data_exome_and_clinical_MAF\\for_oncoplot.csv'\n",
    "\n",
    "df = pd.read_csv(csv_file_path, sep=';')"
   ]
  },
  {
   "cell_type": "code",
   "execution_count": 4,
   "metadata": {},
   "outputs": [
    {
     "data": {
      "text/html": [
       "<div>\n",
       "<style scoped>\n",
       "    .dataframe tbody tr th:only-of-type {\n",
       "        vertical-align: middle;\n",
       "    }\n",
       "\n",
       "    .dataframe tbody tr th {\n",
       "        vertical-align: top;\n",
       "    }\n",
       "\n",
       "    .dataframe thead th {\n",
       "        text-align: right;\n",
       "    }\n",
       "</style>\n",
       "<table border=\"1\" class=\"dataframe\">\n",
       "  <thead>\n",
       "    <tr style=\"text-align: right;\">\n",
       "      <th></th>\n",
       "      <th>ID</th>\n",
       "      <th>Gene</th>\n",
       "      <th>Chr</th>\n",
       "      <th>Start</th>\n",
       "      <th>End</th>\n",
       "      <th>Type</th>\n",
       "      <th>Ref</th>\n",
       "      <th>Alt</th>\n",
       "      <th>Consequence</th>\n",
       "      <th>Exon</th>\n",
       "      <th>Transcript</th>\n",
       "      <th>c.DNA</th>\n",
       "      <th>Protein</th>\n",
       "      <th>VAF</th>\n",
       "      <th>DP</th>\n",
       "      <th>CGI</th>\n",
       "      <th>AMP</th>\n",
       "      <th>ClinGen</th>\n",
       "    </tr>\n",
       "  </thead>\n",
       "  <tbody>\n",
       "    <tr>\n",
       "      <th>0</th>\n",
       "      <td>GIST-1</td>\n",
       "      <td>BCL9L</td>\n",
       "      <td>11</td>\n",
       "      <td>118769194</td>\n",
       "      <td>118769194</td>\n",
       "      <td>SNP</td>\n",
       "      <td>C</td>\n",
       "      <td>T</td>\n",
       "      <td>missense</td>\n",
       "      <td>8</td>\n",
       "      <td>NM_182557</td>\n",
       "      <td>c.G4430A</td>\n",
       "      <td>p.R1477H</td>\n",
       "      <td>26,2</td>\n",
       "      <td>423</td>\n",
       "      <td>driver (oncodriveMUT)</td>\n",
       "      <td>III</td>\n",
       "      <td>VUS</td>\n",
       "    </tr>\n",
       "    <tr>\n",
       "      <th>1</th>\n",
       "      <td>GIST-1</td>\n",
       "      <td>KIT</td>\n",
       "      <td>4</td>\n",
       "      <td>55593579</td>\n",
       "      <td>55593605</td>\n",
       "      <td>DEL</td>\n",
       "      <td>CAGAAACCCATGTATGAAGTACAGTGGA</td>\n",
       "      <td>C</td>\n",
       "      <td>in-frame deletion</td>\n",
       "      <td>11</td>\n",
       "      <td>NM_000222</td>\n",
       "      <td>c.1648_1674del</td>\n",
       "      <td>p.K550_K558del</td>\n",
       "      <td>17,7</td>\n",
       "      <td>176</td>\n",
       "      <td>passenger</td>\n",
       "      <td>I</td>\n",
       "      <td>LO</td>\n",
       "    </tr>\n",
       "    <tr>\n",
       "      <th>2</th>\n",
       "      <td>GIST-10</td>\n",
       "      <td>LEF1</td>\n",
       "      <td>4</td>\n",
       "      <td>109010359</td>\n",
       "      <td>109010359</td>\n",
       "      <td>SNP</td>\n",
       "      <td>G</td>\n",
       "      <td>C</td>\n",
       "      <td>missense</td>\n",
       "      <td>4</td>\n",
       "      <td>NM_016269</td>\n",
       "      <td>c.C469G</td>\n",
       "      <td>p.L157V</td>\n",
       "      <td>11,2</td>\n",
       "      <td>279</td>\n",
       "      <td>driver (oncodriveMUT)</td>\n",
       "      <td>III</td>\n",
       "      <td>VUS</td>\n",
       "    </tr>\n",
       "    <tr>\n",
       "      <th>3</th>\n",
       "      <td>GIST-10</td>\n",
       "      <td>KIT</td>\n",
       "      <td>4</td>\n",
       "      <td>55593661</td>\n",
       "      <td>55593661</td>\n",
       "      <td>SNP</td>\n",
       "      <td>T</td>\n",
       "      <td>C</td>\n",
       "      <td>missense</td>\n",
       "      <td>11</td>\n",
       "      <td>NM_000222</td>\n",
       "      <td>c.T1727C</td>\n",
       "      <td>p.L576P</td>\n",
       "      <td>11,7</td>\n",
       "      <td>150</td>\n",
       "      <td>driver (boostDM: non-tissue-specific model)</td>\n",
       "      <td>I</td>\n",
       "      <td>LO</td>\n",
       "    </tr>\n",
       "    <tr>\n",
       "      <th>4</th>\n",
       "      <td>GIST-11</td>\n",
       "      <td>KIT</td>\n",
       "      <td>4</td>\n",
       "      <td>55593601</td>\n",
       "      <td>55593605</td>\n",
       "      <td>DEL</td>\n",
       "      <td>AGTGG</td>\n",
       "      <td>-</td>\n",
       "      <td>frameshift deletion</td>\n",
       "      <td>11</td>\n",
       "      <td>NM_000222</td>\n",
       "      <td>c.1667_1671del</td>\n",
       "      <td>p.W557Gfs*3</td>\n",
       "      <td>28,8</td>\n",
       "      <td>87</td>\n",
       "      <td>driver (oncodriveMUT)</td>\n",
       "      <td>I</td>\n",
       "      <td>VUS</td>\n",
       "    </tr>\n",
       "  </tbody>\n",
       "</table>\n",
       "</div>"
      ],
      "text/plain": [
       "        ID   Gene  Chr      Start        End Type  \\\n",
       "0   GIST-1  BCL9L   11  118769194  118769194  SNP   \n",
       "1   GIST-1    KIT    4   55593579   55593605  DEL   \n",
       "2  GIST-10   LEF1    4  109010359  109010359  SNP   \n",
       "3  GIST-10    KIT    4   55593661   55593661  SNP   \n",
       "4  GIST-11    KIT    4   55593601   55593605  DEL   \n",
       "\n",
       "                            Ref Alt          Consequence  Exon Transcript  \\\n",
       "0                             C   T             missense     8  NM_182557   \n",
       "1  CAGAAACCCATGTATGAAGTACAGTGGA   C    in-frame deletion    11  NM_000222   \n",
       "2                             G   C             missense     4  NM_016269   \n",
       "3                             T   C             missense    11  NM_000222   \n",
       "4                         AGTGG   -  frameshift deletion    11  NM_000222   \n",
       "\n",
       "            c.DNA         Protein   VAF   DP  \\\n",
       "0        c.G4430A        p.R1477H  26,2  423   \n",
       "1  c.1648_1674del  p.K550_K558del  17,7  176   \n",
       "2         c.C469G         p.L157V  11,2  279   \n",
       "3        c.T1727C         p.L576P  11,7  150   \n",
       "4  c.1667_1671del     p.W557Gfs*3  28,8   87   \n",
       "\n",
       "                                           CGI  AMP ClinGen  \n",
       "0                        driver (oncodriveMUT)  III     VUS  \n",
       "1                                    passenger    I      LO  \n",
       "2                        driver (oncodriveMUT)  III     VUS  \n",
       "3  driver (boostDM: non-tissue-specific model)    I      LO  \n",
       "4                        driver (oncodriveMUT)    I     VUS  "
      ]
     },
     "execution_count": 4,
     "metadata": {},
     "output_type": "execute_result"
    }
   ],
   "source": [
    "df.head()"
   ]
  },
  {
   "cell_type": "code",
   "execution_count": 5,
   "metadata": {},
   "outputs": [
    {
     "data": {
      "text/plain": [
       "Index(['ID', 'Gene', 'Chr', 'Start', 'End', 'Type', 'Ref', 'Alt',\n",
       "       'Consequence', 'Exon', 'Transcript', 'c.DNA', 'Protein', 'VAF', 'DP',\n",
       "       'CGI', 'AMP', 'ClinGen'],\n",
       "      dtype='object')"
      ]
     },
     "execution_count": 5,
     "metadata": {},
     "output_type": "execute_result"
    }
   ],
   "source": [
    "df.columns"
   ]
  },
  {
   "cell_type": "code",
   "execution_count": 6,
   "metadata": {},
   "outputs": [
    {
     "data": {
      "text/plain": [
       "0                 missense\n",
       "1        in-frame deletion\n",
       "2                 missense\n",
       "3                 missense\n",
       "4      frameshift deletion\n",
       "5     frameshift insertion\n",
       "6                 missense\n",
       "7                 missense\n",
       "8        in-frame deletion\n",
       "9       in-frame insertion\n",
       "10                  splice\n",
       "11       in-frame deletion\n",
       "12                missense\n",
       "13       in-frame deletion\n",
       "14                missense\n",
       "15                missense\n",
       "16                  splice\n",
       "17       in-frame deletion\n",
       "18                missense\n",
       "19       in-frame deletion\n",
       "20       in-frame deletion\n",
       "21       in-frame deletion\n",
       "22                missense\n",
       "23                missense\n",
       "24       in-frame deletion\n",
       "25                missense\n",
       "26                missense\n",
       "27     frameshift deletion\n",
       "28       in-frame deletion\n",
       "29                missense\n",
       "30                missense\n",
       "Name: Consequence, dtype: object"
      ]
     },
     "execution_count": 6,
     "metadata": {},
     "output_type": "execute_result"
    }
   ],
   "source": [
    "df[\"Consequence\"]"
   ]
  },
  {
   "cell_type": "code",
   "execution_count": 7,
   "metadata": {},
   "outputs": [
    {
     "data": {
      "text/plain": [
       "0     Missense_Mutation\n",
       "1          In_Frame_Del\n",
       "2     Missense_Mutation\n",
       "3     Missense_Mutation\n",
       "4       Frame_Shift_Del\n",
       "5       Frame_Shift_Ins\n",
       "6     Missense_Mutation\n",
       "7     Missense_Mutation\n",
       "8          In_Frame_Del\n",
       "9          In_Frame_Ins\n",
       "10          Splice_Site\n",
       "11         In_Frame_Del\n",
       "12    Missense_Mutation\n",
       "13         In_Frame_Del\n",
       "14    Missense_Mutation\n",
       "15    Missense_Mutation\n",
       "16          Splice_Site\n",
       "17         In_Frame_Del\n",
       "18    Missense_Mutation\n",
       "19         In_Frame_Del\n",
       "20         In_Frame_Del\n",
       "21         In_Frame_Del\n",
       "22    Missense_Mutation\n",
       "23    Missense_Mutation\n",
       "24         In_Frame_Del\n",
       "25    Missense_Mutation\n",
       "26    Missense_Mutation\n",
       "27      Frame_Shift_Del\n",
       "28         In_Frame_Del\n",
       "29    Missense_Mutation\n",
       "30    Missense_Mutation\n",
       "Name: Consequence, dtype: object"
      ]
     },
     "execution_count": 7,
     "metadata": {},
     "output_type": "execute_result"
    }
   ],
   "source": [
    "consequence_mapping = {\n",
    "    \"missense\": \"Missense_Mutation\",\n",
    "    \"frameshift insertion\": \"Frame_Shift_Ins\",\n",
    "    \"frameshift deletion\": \"Frame_Shift_Del\",\n",
    "    \"in-frame insertion\": \"In_Frame_Ins\",\n",
    "    \"in-frame deletion\": \"In_Frame_Del\",\n",
    "    \"splice\": \"Splice_Site\"\n",
    "}\n",
    "\n",
    "df[\"Consequence\"] = df[\"Consequence\"].map(consequence_mapping)\n",
    "\n",
    "df[\"Consequence\"]"
   ]
  },
  {
   "cell_type": "code",
   "execution_count": 8,
   "metadata": {},
   "outputs": [],
   "source": [
    "maf_df = pd.DataFrame({\n",
    "    \"Hugo_Symbol\": df[\"Gene\"],\n",
    "    \"Chromosome\": df[\"Chr\"],\n",
    "    \"Start_Position\": df[\"Start\"],\n",
    "    \"End_Position\": df[\"End\"],\n",
    "    \"Variant_Type\": df[\"Type\"], # ins, del, indel, snp\n",
    "    \"Reference_Allele\": df[\"Ref\"],\n",
    "    \"Tumor_Seq_Allele2\": df[\"Alt\"],\n",
    "    \"Variant_Classification\": df[\"Consequence\"], # missense, nonsense, frameshift, in-frame, splice\n",
    "    \"Tumor_Sample_Barcode\": df[\"ID\"],\n",
    "    \"Exon_Number\": df[\"Exon\"],\n",
    "    \"Transcript_ID\": df[\"Transcript\"], # canonical transcript NM_\n",
    "    \"cDNA_Change\": df[\"c.DNA\"],\n",
    "    \"Protein_Change\": df[\"Protein\"],\n",
    "    \"Allele_Frequency\": df[\"VAF\"],\n",
    "    \"Read_Depth\": df[\"DP\"],\n",
    "    \"CGI_Classification\": df[\"CGI\"], # driver or passenger\n",
    "    \"AMP_Classification\": df[\"AMP\"], # tier I, II, III\n",
    "    \"ClinGen_Classification\": df[\"ClinGen\"]#, # oncogenic, likely oncogenic, uncertain significance\n",
    "})"
   ]
  },
  {
   "cell_type": "code",
   "execution_count": 9,
   "metadata": {},
   "outputs": [
    {
     "data": {
      "text/plain": [
       "0        NM_182557\n",
       "1        NM_000222\n",
       "2        NM_016269\n",
       "3        NM_000222\n",
       "4        NM_000222\n",
       "5        NM_000222\n",
       "6        NM_006218\n",
       "7     NM_001008781\n",
       "8        NM_000222\n",
       "9        NM_000222\n",
       "10    NM_001164273\n",
       "11       NM_000222\n",
       "12       NM_020987\n",
       "13       NM_000222\n",
       "14       NM_000088\n",
       "15       NM_000222\n",
       "16    NM_001134407\n",
       "17       NM_000222\n",
       "18       NM_006206\n",
       "19       NM_000222\n",
       "20       NM_000222\n",
       "21       NM_000222\n",
       "22       NM_005228\n",
       "23       NM_000222\n",
       "24       NM_006206\n",
       "25       NM_014384\n",
       "26       NM_000222\n",
       "27       NM_000051\n",
       "28       NM_000222\n",
       "29       NM_000926\n",
       "30       NM_006206\n",
       "Name: Transcript_ID, dtype: object"
      ]
     },
     "execution_count": 9,
     "metadata": {},
     "output_type": "execute_result"
    }
   ],
   "source": [
    "maf_df[\"Transcript_ID\"]"
   ]
  },
  {
   "cell_type": "code",
   "execution_count": 10,
   "metadata": {},
   "outputs": [],
   "source": [
    "maf_df.to_csv(\"oncoplot.maf\", sep='\\t', index=False)"
   ]
  }
 ],
 "metadata": {
  "kernelspec": {
   "display_name": "base",
   "language": "python",
   "name": "python3"
  },
  "language_info": {
   "codemirror_mode": {
    "name": "ipython",
    "version": 3
   },
   "file_extension": ".py",
   "mimetype": "text/x-python",
   "name": "python",
   "nbconvert_exporter": "python",
   "pygments_lexer": "ipython3",
   "version": "3.10.9"
  }
 },
 "nbformat": 4,
 "nbformat_minor": 2
}
